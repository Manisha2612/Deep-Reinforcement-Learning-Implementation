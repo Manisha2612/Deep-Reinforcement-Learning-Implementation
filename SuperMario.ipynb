{
 "cells": [
  {
   "cell_type": "code",
   "execution_count": 17,
   "id": "e9ff3139-d6b6-4a05-85ac-26f80612b26f",
   "metadata": {},
   "outputs": [
    {
     "name": "stdout",
     "output_type": "stream",
     "text": [
      "The number of states in mario environment is Box(0, 255, (240, 256, 3), uint8)\n",
      "The number of actions in mario environment is Discrete(7)\n"
     ]
    }
   ],
   "source": [
    "from nes_py.wrappers import JoypadSpace\n",
    "import gym_super_mario_bros\n",
    "from gym_super_mario_bros.actions import SIMPLE_MOVEMENT\n",
    "import gym_super_mario_bros\n",
    "from gym_super_mario_bros.actions import RIGHT_ONLY\n",
    "import time\n",
    "import numpy as np\n",
    "\n",
    "# Make gym environment\n",
    "env = gym_super_mario_bros.make('SuperMarioBros-2-2-v0')\n",
    "env = JoypadSpace(env, SIMPLE_MOVEMENT)\n",
    "Nstates = env.observation_space\n",
    "Nactions = env.action_space\n",
    "print(\"The number of states in mario environment is\", Nstates)\n",
    "print(\"The number of actions in mario environment is\", Nactions)\n",
    "# Play random\n",
    "done = True\n",
    "for step in range(2000):\n",
    "    if done:\n",
    "        state = env.reset()\n",
    "    state, reward, done, info = env.step(env.action_space.sample())\n",
    "    env.render()\n",
    "    \n",
    "\n",
    "# Close device\n",
    "env.close()"
   ]
  },
  {
   "cell_type": "code",
   "execution_count": 8,
   "id": "452a9373-5ad6-4909-bcec-f4c11404b101",
   "metadata": {},
   "outputs": [],
   "source": [
    "import time\n",
    "import random\n",
    "import numpy as np\n",
    "from collections import deque\n",
    "import tensorflow as tf\n",
    "from matplotlib import pyplot as plt"
   ]
  },
  {
   "cell_type": "code",
   "execution_count": null,
   "id": "28c50692-1e4a-4976-99c2-51ae4a04fab8",
   "metadata": {},
   "outputs": [],
   "source": []
  }
 ],
 "metadata": {
  "kernelspec": {
   "display_name": "Python 3",
   "language": "python",
   "name": "python3"
  },
  "language_info": {
   "codemirror_mode": {
    "name": "ipython",
    "version": 3
   },
   "file_extension": ".py",
   "mimetype": "text/x-python",
   "name": "python",
   "nbconvert_exporter": "python",
   "pygments_lexer": "ipython3",
   "version": "3.7.3"
  }
 },
 "nbformat": 4,
 "nbformat_minor": 5
}
