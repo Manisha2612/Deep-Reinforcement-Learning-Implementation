{
 "cells": [
  {
   "cell_type": "code",
   "execution_count": 4,
   "metadata": {},
   "outputs": [],
   "source": [
    "import gym\n",
    "import gym_super_mario_bros"
   ]
  },
  {
   "cell_type": "code",
   "execution_count": 18,
   "metadata": {},
   "outputs": [],
   "source": [
    "import os\n",
    "import imageio\n",
    "import numpy as np\n",
    "from PIL import Image\n",
    "import PIL.ImageDraw as ImageDraw\n",
    "import matplotlib.pyplot as plt    \n",
    "\n",
    "\n",
    "def _label_with_episode_number(frame, episode_num):\n",
    "    im = Image.fromarray(frame)\n",
    "\n",
    "    drawer = ImageDraw.Draw(im)\n",
    "\n",
    "    if np.mean(im) < 128:\n",
    "        text_color = (255,255,255)\n",
    "    else:\n",
    "        text_color = (0,0,0)\n",
    "    drawer.text((im.size[0]/20,im.size[1]/18), f'Episode: {episode_num+1}', fill=text_color)\n",
    "\n",
    "    return im\n",
    "\n",
    "\n",
    "def save_random_agent_gif(env):\n",
    "    frames = []\n",
    "    for i in range(1):\n",
    "        state = env.reset()        \n",
    "        for t in range(2000):\n",
    "            action = env.action_space.sample()\n",
    "\n",
    "            frame = env.render(mode='rgb_array')\n",
    "            frames.append(_label_with_episode_number(frame, episode_num=i))\n",
    "\n",
    "            state, _, done, _ = env.step(action)\n",
    "            if done:\n",
    "                break\n",
    "\n",
    "    env.close()\n",
    "\n",
    "    imageio.mimwrite(os.path.join('./videos/', 'random_agent_SuperMarioBros-v0.gif'), frames, fps=60)\n",
    "\n",
    "\n",
    "env = gym.make('SuperMarioBros-v0')\n",
    "save_random_agent_gif(env)"
   ]
  },
  {
   "cell_type": "code",
   "execution_count": null,
   "metadata": {},
   "outputs": [],
   "source": []
  }
 ],
 "metadata": {
  "kernelspec": {
   "display_name": "Python 3",
   "language": "python",
   "name": "python3"
  },
  "language_info": {
   "codemirror_mode": {
    "name": "ipython",
    "version": 3
   },
   "file_extension": ".py",
   "mimetype": "text/x-python",
   "name": "python",
   "nbconvert_exporter": "python",
   "pygments_lexer": "ipython3",
   "version": "3.6.12"
  }
 },
 "nbformat": 4,
 "nbformat_minor": 4
}
