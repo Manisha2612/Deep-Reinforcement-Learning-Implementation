{
 "cells": [
  {
   "cell_type": "code",
   "execution_count": 33,
   "metadata": {},
   "outputs": [
    {
     "name": "stdout",
     "output_type": "stream",
     "text": [
      "[[[ 1  2  3]\n",
      "  [ 8  9  9]\n",
      "  [ 8 10 11]\n",
      "  [ 7  8  9]\n",
      "  [ 3  4  1]]\n",
      "\n",
      " [[ 5  7  8]\n",
      "  [ 2  2  2]\n",
      "  [ 7  5  6]\n",
      "  [ 9  9  9]\n",
      "  [ 1  1  1]]\n",
      "\n",
      " [[ 5  7  8]\n",
      "  [ 2  2  2]\n",
      "  [ 4  4  4]\n",
      "  [ 0  5  4]\n",
      "  [10  4  5]]\n",
      "\n",
      " [[ 5  7  8]\n",
      "  [ 2  2  2]\n",
      "  [ 4  4  4]\n",
      "  [ 8  8  8]\n",
      "  [ 9  5  6]]]\n",
      "(4, 5, 3)\n"
     ]
    }
   ],
   "source": [
    "import numpy as np\n",
    "\n",
    "a = np.array([[[1,2,3],[8,9,9],[8,10,11],[7,8,9],[3,4,1]],[[5,7,8],[2,2,2],[7,5,6],[9,9,9],[1,1,1]],[[5,7,8],[2,2,2],[4,4,4],[0,5,4],[10,4,5]],[[5,7,8],[2,2,2],[4,4,4],[8,8,8],[9,5,6]]])\n",
    "print(a)\n",
    "print(np.shape(a))"
   ]
  },
  {
   "cell_type": "code",
   "execution_count": 34,
   "metadata": {},
   "outputs": [
    {
     "name": "stdout",
     "output_type": "stream",
     "text": [
      "[[[ 1  8  8  7  3]\n",
      "  [ 5  2  7  9  1]\n",
      "  [ 5  2  4  0 10]\n",
      "  [ 5  2  4  8  9]]\n",
      "\n",
      " [[ 2  9 10  8  4]\n",
      "  [ 7  2  5  9  1]\n",
      "  [ 7  2  4  5  4]\n",
      "  [ 7  2  4  8  5]]\n",
      "\n",
      " [[ 3  9 11  9  1]\n",
      "  [ 8  2  6  9  1]\n",
      "  [ 8  2  4  4  5]\n",
      "  [ 8  2  4  8  6]]]\n",
      "(3, 4, 5)\n"
     ]
    }
   ],
   "source": [
    "b = np.transpose(a,(2,0,1))\n",
    "print(b)\n",
    "print(np.shape(b))"
   ]
  },
  {
   "cell_type": "code",
   "execution_count": 35,
   "metadata": {},
   "outputs": [
    {
     "name": "stdout",
     "output_type": "stream",
     "text": [
      "tensor([[[1.8149, 8.7002, 9.5152, 7.8143, 3.3587],\n",
      "         [6.5155, 1.9998, 5.7113, 8.9991, 0.9999],\n",
      "         [6.5155, 1.9998, 3.9996, 3.3910, 5.9070],\n",
      "         [6.5155, 1.9998, 3.9996, 7.9992, 6.3091]]])\n"
     ]
    }
   ],
   "source": [
    "import torch\n",
    "from torch import nn\n",
    "from torchvision import transforms as T\n",
    "\n",
    "b_copy = b.copy()\n",
    "b_tensor = torch.tensor(b_copy, dtype = torch.float)\n",
    "gray = T.Grayscale(num_output_channels = 1)\n",
    "b_gray = gray(b_tensor)\n",
    "print(b_gray)"
   ]
  },
  {
   "cell_type": "code",
   "execution_count": 36,
   "metadata": {},
   "outputs": [
    {
     "name": "stdout",
     "output_type": "stream",
     "text": [
      "tensor([[[4.5601, 7.6132, 4.2551],\n",
      "         [5.0103, 3.9996, 5.9704]]])\n"
     ]
    }
   ],
   "source": [
    "resize = T.Resize((2,3))\n",
    "b_resz = resize(b_gray)\n",
    "print(b_resz)"
   ]
  }
 ],
 "metadata": {
  "kernelspec": {
   "display_name": "Python 3",
   "language": "python",
   "name": "python3"
  },
  "language_info": {
   "codemirror_mode": {
    "name": "ipython",
    "version": 3
   },
   "file_extension": ".py",
   "mimetype": "text/x-python",
   "name": "python",
   "nbconvert_exporter": "python",
   "pygments_lexer": "ipython3",
   "version": "3.7.6"
  }
 },
 "nbformat": 4,
 "nbformat_minor": 4
}
