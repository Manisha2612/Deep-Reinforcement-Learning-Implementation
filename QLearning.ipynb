{
 "cells": [
  {
   "cell_type": "code",
   "execution_count": 56,
   "metadata": {},
   "outputs": [],
   "source": [
    "from nes_py.wrappers import JoypadSpace\n",
    "import gym_super_mario_bros\n",
    "from gym_super_mario_bros.actions import SIMPLE_MOVEMENT\n",
    "import numpy as np\n",
    "import pandas as pd\n",
    "import time\n",
    "import torch \n",
    "from torch import nn\n",
    "from torchvision import transforms as T"
   ]
  },
  {
   "cell_type": "code",
   "execution_count": 57,
   "metadata": {},
   "outputs": [],
   "source": [
    "env = gym_super_mario_bros.make('SuperMarioBros-2-2-v0')   # World 2, Stage 2, Default Version. Single Life Mario. \n",
    "env = JoypadSpace(env, SIMPLE_MOVEMENT)"
   ]
  },
  {
   "cell_type": "code",
   "execution_count": 58,
   "metadata": {},
   "outputs": [
    {
     "name": "stdout",
     "output_type": "stream",
     "text": [
      "The state space has the following shape : Box(0, 255, (240, 256, 3), uint8)\n",
      "The action space has the following shape : Discrete(7)\n"
     ]
    }
   ],
   "source": [
    "N_states = env.observation_space\n",
    "N_actions = env.action_space\n",
    "print('The state space has the following shape :', N_states)\n",
    "print('The action space has the following shape :', N_actions)"
   ]
  },
  {
   "cell_type": "code",
   "execution_count": 59,
   "metadata": {},
   "outputs": [],
   "source": [
    "# A few comments\n",
    "# We are applying Q Learning initially\n",
    "# The state space is too huge : It consists of 240 x 256 x 3 array, with each entry being in the integral range [0,255]\n",
    "# Thus, the total states possible are : 240 x 256 x 3 x 256\n",
    "\n",
    "# Obviously, for generic Q Learning, we must have a Q table that's not that big due to computational reasons\n",
    "# Due to these reasons we will attempt to pre-process the states possible\n",
    "# By pre-processing we can reduce considerably the total number of states possible, thus reducing the Q table size\n",
    "\n",
    "\n",
    "\n",
    "# PRE-PROCESSING STATE SPACE\n",
    "\n",
    "\n",
    "# GRAY SCALING\n",
    "\n",
    "def grayscale(state_from_env):\n",
    "    \n",
    "    # converting to 3 x H x W (input is in H x W x 3 format)\n",
    "    \n",
    "    state_array = np.transpose(state_from_env, (2, 0, 1))\n",
    "    state_array_copy = state_array.copy()                       # customary to convert to tensor using a copied numpy\n",
    "    state_tensor = torch.tensor(state_array_copy, dtype = torch.float)\n",
    "    \n",
    "    # tranposed into required format for torch grayscale transformation (converted into tensor as well, for torch)\n",
    "    \n",
    "    grayscale_transform_function = T.Grayscale(num_output_channels = 1)\n",
    "    grayscale_function_output = grayscale_transform_function(state_tensor)\n",
    "    \n",
    "    return grayscale_function_output\n",
    "\n",
    "# (tracking function input and output)\n",
    "# grayscale input = numpy array (H x W x 3) \n",
    "# grayscale output = torch tensor, grayscaled version of RGB input, 1 x H x W, torch float\n",
    "\n",
    "\n",
    "# DOWNSAMPLING GRAYSCALE IMAGE\n",
    "\n",
    "# (to reduce the size of Q table, the grayscale image outputted will now be downsampled)\n",
    "\n",
    "# Grayscaled input will be resized into a 9 x 10 matrix, using the default settings in torchvision\n",
    "\n",
    "def reduce_size(grayscale_input):\n",
    "    \n",
    "    reduce_function = T.Resize((9,10))                    # using the default settings\n",
    "    reduced_output = reduce_function(grayscale_input)\n",
    "    \n",
    "    return reduced_output\n",
    "    \n",
    "# (tracking function input and output)\n",
    "# reduce_size input expected = 1 x H x W torch tensor, the grayscaled version of the state output via environment\n",
    "# reduce_size output = 1 x 9 x 10 torch tensor, reduced size version of the grayscale\n",
    "\n",
    "\n",
    "# Ensuring discrete states for Q table creation\n",
    "\n",
    "# The output from the above two functions need not be integral. To remedy this, the reduce_size output will be rounded to \n",
    "# the nearest integer\n",
    "\n",
    "# NOTE : Each element of the final 1 x 9 x 10 tensor/array, will now have each entry in the range [0,255] (256 possible entries)\n",
    "# The range is obviously integral due to rounding\n",
    "\n",
    "\n",
    "\n",
    "# ROUNDING THE REDUCE_SIZE OUTPUT TO MAKE STATE MATRIX ENTRIES INTEGRAL\n",
    "\n",
    "# Realized here Q Learning is just not possible, DQN will be implemented"
   ]
  }
 ],
 "metadata": {
  "kernelspec": {
   "display_name": "Python 3",
   "language": "python",
   "name": "python3"
  },
  "language_info": {
   "codemirror_mode": {
    "name": "ipython",
    "version": 3
   },
   "file_extension": ".py",
   "mimetype": "text/x-python",
   "name": "python",
   "nbconvert_exporter": "python",
   "pygments_lexer": "ipython3",
   "version": "3.7.6"
  }
 },
 "nbformat": 4,
 "nbformat_minor": 4
}
